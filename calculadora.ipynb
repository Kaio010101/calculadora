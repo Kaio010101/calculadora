{
  "nbformat": 4,
  "nbformat_minor": 0,
  "metadata": {
    "colab": {
      "provenance": [],
      "authorship_tag": "ABX9TyNXDe27T2MedLWPJRaviAX3",
      "include_colab_link": true
    },
    "kernelspec": {
      "name": "python3",
      "display_name": "Python 3"
    },
    "language_info": {
      "name": "python"
    }
  },
  "cells": [
    {
      "cell_type": "markdown",
      "metadata": {
        "id": "view-in-github",
        "colab_type": "text"
      },
      "source": [
        "<a href=\"https://colab.research.google.com/github/Kaio010101/calculadora/blob/main/calculadora.ipynb\" target=\"_parent\"><img src=\"https://colab.research.google.com/assets/colab-badge.svg\" alt=\"Open In Colab\"/></a>"
      ]
    },
    {
      "cell_type": "code",
      "source": [
        "op = int(input(\" 1. soma \\n 2. subtração \\n 3. multiplicação \\n 4. divisão \\n escolher uma Letra: \"))\n",
        "\n",
        "x = int(input(\"numero 1: \"))\n",
        "y = int(input(\"numero 2: \"))\n",
        "\n",
        "if  op == 1:\n",
        "  resultado = x + y\n",
        "  print(\"resposta:\",resultado)\n",
        "elif op == 2:\n",
        "  resultado = x - y\n",
        "  print(\"resposta:\",resultado)\n",
        "elif op == 3:\n",
        "  resultado = x * y\n",
        "  print(\"resposta:\",resultado)\n",
        "elif op == 4:\n",
        "  if  y == 0:\n",
        "    print(\"não é possivel dividir:\")\n",
        "  else:\n",
        "  print(\"resposta:\",resultado)\n",
        "else:\n",
        "  print(\"joga o jogin direito amgão:\")"
      ],
      "metadata": {
        "colab": {
          "base_uri": "https://localhost:8080/"
        },
        "id": "nLw6CWyGWs95",
        "outputId": "674f9e22-39a3-4e8e-c190-d6f390ff896e"
      },
      "execution_count": 39,
      "outputs": [
        {
          "output_type": "stream",
          "name": "stdout",
          "text": [
            " 1. soma \n",
            " 2. subtração \n",
            " 3. multiplicação \n",
            " 4. divisão \n",
            " escolher uma Letra: 5\n",
            "numero 1: 2\n",
            "numero 2: 1\n",
            "joga o jogin direito amgão:\n"
          ]
        }
      ]
    },
    {
      "cell_type": "code",
      "source": [],
      "metadata": {
        "id": "a-UumKY-gQzX"
      },
      "execution_count": null,
      "outputs": []
    }
  ]
}